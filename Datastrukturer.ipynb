{
 "metadata": {
  "language_info": {
   "codemirror_mode": {
    "name": "ipython",
    "version": 3
   },
   "file_extension": ".py",
   "mimetype": "text/x-python",
   "name": "python",
   "nbconvert_exporter": "python",
   "pygments_lexer": "ipython3",
   "version": "3.8.3-final"
  },
  "orig_nbformat": 2,
  "kernelspec": {
   "name": "python_defaultSpec_1598949896223",
   "display_name": "Python 3.8.3 64-bit ('base': conda)"
  }
 },
 "nbformat": 4,
 "nbformat_minor": 2,
 "cells": [
  {
   "cell_type": "code",
   "execution_count": 223,
   "metadata": {},
   "outputs": [],
   "source": [
    "X = 1\n",
    "Y = 4\n",
    "addresses = {\"Adam\": \"Ormvägen 5\",\n",
    "\"Bella\": \"Klockgatan 1\",\n",
    "\"Cornelia\": \"Vikingagatan 3\", \"Anders\": \"Gustavsbergs allé 20\"}\n",
    "cars = [\"Volvo\", \"Opel\", \"BMW\"]\n",
    "numbers1 = {1, 2, 3, X, 6}\n",
    "numbers2 = {Y, 2, 3, 4, 7}"
   ]
  },
  {
   "cell_type": "code",
   "execution_count": 126,
   "metadata": {
    "tags": []
   },
   "outputs": [
    {
     "output_type": "stream",
     "name": "stdout",
     "text": "<class 'int'>\n"
    }
   ],
   "source": [
    "print(type(X))"
   ]
  },
  {
   "cell_type": "code",
   "execution_count": 127,
   "metadata": {
    "tags": []
   },
   "outputs": [
    {
     "output_type": "stream",
     "name": "stdout",
     "text": "<class 'dict'>\n"
    }
   ],
   "source": [
    "print(type(addresses))"
   ]
  },
  {
   "cell_type": "code",
   "execution_count": 128,
   "metadata": {
    "tags": []
   },
   "outputs": [
    {
     "output_type": "stream",
     "name": "stdout",
     "text": "Klockgatan 1\n"
    }
   ],
   "source": [
    "print(addresses[\"Bella\"])"
   ]
  },
  {
   "cell_type": "code",
   "execution_count": 130,
   "metadata": {
    "tags": []
   },
   "outputs": [
    {
     "output_type": "stream",
     "name": "stdout",
     "text": "{'Adam': 'Ormvägen 5', 'Bella': 'Klockgatan 1', 'Cornelia': 'Vikingagatan 3', 'Anders': 'Gustavsbergs allé 20', 'Daniel': 'Prinsgränd 2'}\n"
    }
   ],
   "source": [
    "addresses[\"Daniel\"] = \"Prinsgränd 2\"\n",
    "\n",
    "print(addresses)"
   ]
  },
  {
   "cell_type": "code",
   "execution_count": 131,
   "metadata": {
    "tags": []
   },
   "outputs": [
    {
     "output_type": "stream",
     "name": "stdout",
     "text": "5\n"
    }
   ],
   "source": [
    "print(len(addresses.keys()))"
   ]
  },
  {
   "cell_type": "code",
   "execution_count": 138,
   "metadata": {
    "tags": []
   },
   "outputs": [
    {
     "output_type": "stream",
     "name": "stdout",
     "text": "Prinsgränd 2\n"
    }
   ],
   "source": [
    "index = list(addresses.keys())\n",
    "print(addresses[index[-1]])"
   ]
  },
  {
   "cell_type": "code",
   "execution_count": 140,
   "metadata": {},
   "outputs": [],
   "source": [
    "#addresses = {v: k for k, v in adresses.items()}\n"
   ]
  },
  {
   "cell_type": "code",
   "execution_count": 141,
   "metadata": {
    "tags": []
   },
   "outputs": [
    {
     "output_type": "stream",
     "name": "stdout",
     "text": "<class 'list'>\n"
    }
   ],
   "source": [
    "print(type(cars))"
   ]
  },
  {
   "cell_type": "code",
   "execution_count": 143,
   "metadata": {
    "tags": []
   },
   "outputs": [
    {
     "output_type": "stream",
     "name": "stdout",
     "text": "Opel\n"
    }
   ],
   "source": [
    "print(cars[X])"
   ]
  },
  {
   "cell_type": "code",
   "execution_count": 144,
   "metadata": {},
   "outputs": [
    {
     "output_type": "error",
     "ename": "IndexError",
     "evalue": "list index out of range",
     "traceback": [
      "\u001b[1;31m---------------------------------------------------------------------------\u001b[0m",
      "\u001b[1;31mIndexError\u001b[0m                                Traceback (most recent call last)",
      "\u001b[1;32m<ipython-input-144-ad8212401451>\u001b[0m in \u001b[0;36m<module>\u001b[1;34m\u001b[0m\n\u001b[1;32m----> 1\u001b[1;33m \u001b[0mprint\u001b[0m\u001b[1;33m(\u001b[0m\u001b[0mcars\u001b[0m\u001b[1;33m[\u001b[0m\u001b[0mY\u001b[0m\u001b[1;33m]\u001b[0m\u001b[1;33m)\u001b[0m\u001b[1;33m\u001b[0m\u001b[1;33m\u001b[0m\u001b[0m\n\u001b[0m",
      "\u001b[1;31mIndexError\u001b[0m: list index out of range"
     ]
    }
   ],
   "source": [
    "print(cars[Y])"
   ]
  },
  {
   "cell_type": "code",
   "execution_count": 196,
   "metadata": {
    "tags": []
   },
   "outputs": [
    {
     "output_type": "execute_result",
     "data": {
      "text/plain": "'BMW'"
     },
     "metadata": {},
     "execution_count": 196
    }
   ],
   "source": [
    "cars.sort()\n",
    "cars[0]"
   ]
  },
  {
   "cell_type": "code",
   "execution_count": 225,
   "metadata": {
    "tags": []
   },
   "outputs": [],
   "source": [
    "cars_2 = cars.copy()\n",
    "cars.append(\"Saab\")\n",
    "\n",
    "#print(cars)"
   ]
  },
  {
   "cell_type": "code",
   "execution_count": 226,
   "metadata": {
    "tags": []
   },
   "outputs": [
    {
     "output_type": "stream",
     "name": "stdout",
     "text": "['Volvo', 'Opel', 'BMW', 'Saab']\n['Volvo', 'Opel', 'BMW']\n"
    }
   ],
   "source": [
    "print(cars)\n",
    "print(cars_2)"
   ]
  },
  {
   "cell_type": "code",
   "execution_count": 227,
   "metadata": {
    "tags": []
   },
   "outputs": [
    {
     "output_type": "stream",
     "name": "stdout",
     "text": "['Volvo', 'Opel', 'BMW', 'Saab']\n['Volvo', 'Opel', 'BMW']\n['Volvo', 'Opel', 'BMW']\n"
    }
   ],
   "source": [
    "cars_3 = cars_2.copy()\n",
    "\n",
    "print(cars)\n",
    "print(cars_2)\n",
    "print(cars_3)"
   ]
  },
  {
   "cell_type": "code",
   "execution_count": 249,
   "metadata": {
    "tags": []
   },
   "outputs": [
    {
     "output_type": "stream",
     "name": "stdout",
     "text": "['Volvo', 'Volvo', 'Saab', 'Saab', 'Opel', 'Opel', 'BMW', 'BMW']\n"
    }
   ],
   "source": [
    "cars = [\"Volvo\", \"Opel\", \"BMW\", \"Saab\"]\n",
    "#cars.sort()\n",
    "cars = cars + cars\n",
    "\n",
    "\n",
    "#sorted_cars = (sorted(cars)\n",
    "print(sorted(cars, key=None, reverse=True))"
   ]
  },
  {
   "cell_type": "code",
   "execution_count": 251,
   "metadata": {
    "tags": []
   },
   "outputs": [
    {
     "output_type": "stream",
     "name": "stdout",
     "text": "['Volvo', 'Opel', 'BMW', 'Saab']\n"
    }
   ],
   "source": [
    "unique_cars = cars\n",
    "unique_cars = list(dict.fromkeys(unique_cars))\n",
    "print(unique_cars)"
   ]
  },
  {
   "cell_type": "code",
   "execution_count": 252,
   "metadata": {},
   "outputs": [
    {
     "output_type": "execute_result",
     "data": {
      "text/plain": "set"
     },
     "metadata": {},
     "execution_count": 252
    }
   ],
   "source": [
    "type(numbers1)\n",
    "type(numbers2)"
   ]
  },
  {
   "cell_type": "code",
   "execution_count": 255,
   "metadata": {
    "tags": []
   },
   "outputs": [
    {
     "output_type": "stream",
     "name": "stdout",
     "text": "{1, 2, 3, 6}\n{2, 3, 4, 7}\n"
    }
   ],
   "source": [
    "print(numbers1)\n",
    "print(numbers2)"
   ]
  },
  {
   "cell_type": "code",
   "execution_count": 258,
   "metadata": {
    "tags": []
   },
   "outputs": [
    {
     "output_type": "stream",
     "name": "stdout",
     "text": "{2, 3}\n"
    }
   ],
   "source": [
    "numbers_intersection = numbers1 & numbers2\n",
    "print(numbers_intersection)"
   ]
  },
  {
   "cell_type": "code",
   "execution_count": 259,
   "metadata": {
    "tags": []
   },
   "outputs": [
    {
     "output_type": "stream",
     "name": "stdout",
     "text": "{1, 2, 3, 4, 6, 7}\n"
    }
   ],
   "source": [
    "numbers_union = numbers1 | numbers2\n",
    "print(numbers_union)"
   ]
  },
  {
   "cell_type": "code",
   "execution_count": 260,
   "metadata": {
    "tags": []
   },
   "outputs": [
    {
     "output_type": "stream",
     "name": "stdout",
     "text": "{1, 6}\n"
    }
   ],
   "source": [
    "numbers_difference = numbers1 - numbers2\n",
    "print(numbers_difference)"
   ]
  },
  {
   "cell_type": "code",
   "execution_count": null,
   "metadata": {},
   "outputs": [],
   "source": []
  }
 ]
}